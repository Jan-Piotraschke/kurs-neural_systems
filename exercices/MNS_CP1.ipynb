{
  "nbformat": 4,
  "nbformat_minor": 0,
  "metadata": {
    "colab": {
      "provenance": [],
      "collapsed_sections": []
    },
    "kernelspec": {
      "name": "python3",
      "display_name": "Python 3"
    },
    "language_info": {
      "name": "python"
    }
  },
  "cells": [
    {
      "cell_type": "code",
      "source": [
        "import numpy as np\n",
        "import matplotlib.pyplot as plt\n",
        "%matplotlib inline  "
      ],
      "metadata": {
        "id": "KxfY6q0cf3xv"
      },
      "execution_count": null,
      "outputs": []
    },
    {
      "cell_type": "markdown",
      "source": [
        "# 1. McCulloch-Pitts neuron\n"
      ],
      "metadata": {
        "id": "L_EO033kfrU2"
      }
    },
    {
      "cell_type": "code",
      "execution_count": null,
      "metadata": {
        "id": "2bvoRbBrfhWD"
      },
      "outputs": [],
      "source": []
    },
    {
      "cell_type": "markdown",
      "source": [
        "# 2. Activation functions"
      ],
      "metadata": {
        "id": "7iw1iM5FfmVk"
      }
    },
    {
      "cell_type": "code",
      "source": [
        "x = np.arange(-5, 5, 0.01)\n"
      ],
      "metadata": {
        "id": "ymjfjKm2iC30"
      },
      "execution_count": null,
      "outputs": []
    },
    {
      "cell_type": "code",
      "source": [
        "def plot(func, yaxis=(-1.4, 1.4)):\n",
        "    plt.ylim(yaxis)\n",
        "    plt.locator_params(nbins=5)\n",
        "    plt.xticks(fontsize = 14)\n",
        "    plt.yticks(fontsize = 14)\n",
        "    plt.axhline(lw=1, c='black')\n",
        "    plt.axvline(lw=1, c='black')\n",
        "    plt.grid(alpha=0.4, ls='-.')\n",
        "    plt.box(on=None)\n",
        "    plt.plot(x, func(x), c='r', lw=3)"
      ],
      "metadata": {
        "id": "a3PtvsdRh4sx"
      },
      "execution_count": null,
      "outputs": []
    },
    {
      "cell_type": "code",
      "source": [
        "def sigmoid(x, **params):\n",
        "    a = params.get('a', 1)\n",
        "    return 2 / (1 + np.exp(-a*x)) - 1\n",
        "\n",
        "def tanh(x, **params):\n",
        "    a = params.get('a', 1)\n",
        "    return np.tanh(a*x)\n",
        "\n",
        "def piecewise_linear(x, **params):\n",
        "    a = params.get('a', 4)\n",
        "    return np.vectorize(lambda x: 1 if x >= 1/a else (-1 if x <= -1/a else a*x), otypes=[float])\n",
        "\n",
        "plot(piecewise_linear(x, a=2))\n",
        "\n",
        "# TODO: plot the function using three different values for a>0\n",
        "#fig, axs = plt.subplots(3, 3, figsize=(10, 6), constrained_layout=True)\n"
      ],
      "metadata": {
        "colab": {
          "base_uri": "https://localhost:8080/",
          "height": 269
        },
        "id": "5AAL7aRNfpvB",
        "outputId": "7fb635dc-f2b7-4156-8eba-79d3a1941f8e"
      },
      "execution_count": null,
      "outputs": [
        {
          "output_type": "display_data",
          "data": {
            "text/plain": [
              "<Figure size 432x288 with 1 Axes>"
            ],
            "image/png": "[encoded data removed]"
          },
          "metadata": {
            "needs_background": "light"
          }
        }
      ]
    }
  ]
}