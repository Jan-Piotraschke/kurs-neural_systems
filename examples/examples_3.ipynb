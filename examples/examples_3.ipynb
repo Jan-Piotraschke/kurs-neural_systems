{
 "cells": [
  {
   "cell_type": "markdown",
   "metadata": {},
   "source": [
    "# Exercises 3"
   ]
  },
  {
   "cell_type": "markdown",
   "metadata": {},
   "source": [
    "## Work in groups and the person using the keyboard should switch every ~ 10 minutes"
   ]
  },
  {
   "cell_type": "markdown",
   "metadata": {},
   "source": [
    "### Exercise: Prime number sieve\n",
    "\n",
    "Compute prime numbers in 0â€“99, with a â€˜sieveâ€™\n",
    "\n",
    "* Construct a shape ``(100,)`` boolean array `is_prime`, filled with `True` in the beginning\n",
    "* Cross out 0 and 1 which are not primes\n",
    "* For each integer `j` starting from 2, cross out its higher multiples\n",
    "* Skim through `help(np.nonzero)`, and print the prime numbers\n",
    "* Is it possible to optimise the algorithm?"
   ]
  },
  {
   "cell_type": "markdown",
   "metadata": {},
   "source": [
    "* Convert the simple sieve to the sieve of Eratosthenes:\n",
    "  1. Skip j which are already known to not be primes\n",
    "  2. The first number to cross out is j^2"
   ]
  },
  {
   "cell_type": "markdown",
   "metadata": {},
   "source": [
    "### Excercise\n",
    "\n",
    "(Do this exercise if you want to practice the basics of writing functions, using keyword arguments, broadcasting and plotting.)\n",
    "\n",
    "(a) Farmer Joe owns a strawberry field and likes to distribute the berries he has harvested equally among the local kindergarten children. Every year the size of his harvest and the number of kindergarten children vary.  \n",
    "Write a function that calculates, for a given number of berries and number of children, how many berries each child receives and how many will be left for farmer Joe.\n",
    "\n",
    "Apply your function:  \n",
    "(a.1) \n",
    "In years 1-5 the harvest sizes are: 502, 477, 1034, 721, 859 resp. and there are 30 kindergarten children. Calculate the berry distribution.   \n",
    "(a.2) Now vary the number of children also: In years 1-5 the harvest sizes are: 502, 477, 1034, 721, 859 and there are 20, 100, 26, 41, 64 children respectively. <br>\n",
    "(a.3) Broadcasting: Vary the harvest sizes (502, 477, 1034) and number of children (20, 100) independently. Use your function to calculate all possible outcomes (a 2D grid, no loops required!).\n",
    "\n",
    "(b.1) If he has at least 20 berries left, farmer Joe makes a strawberry cake for himself. Adapt your function, such that it also outputs a boolean for whether or not farmer Joe gets cake.\n",
    "\n",
    "(b.2) What if at least 30 berries are needed for a cake? Hint: add this parameter as a keyword-argument.\n",
    "\n",
    "(c.1) Every year farmer Joe has to decide how many strawberry plants to plant. We assume that the number of berries that one plant produces is uniformly distributed between 5 and 15.\n",
    "\n",
    "Write a function that, given a number of plants, generates a random total number of berries according to these assumptions. \n",
    "\n",
    "(c.2) Use np.load to load the file plant_record.npz. It contains an array n_plants with the number of strawberry plants that farmer Joe has planted in the past 20 years. Apply your function to calculate a random realization of the total number of berries for each number of plants.\n",
    "\n",
    "(d) Now combine your functions:  \n",
    "Write a function that takes Joe's decision about the number of plants and the current number of children as an input and directly calculates a potential random outcome: How many berries does each child receive and will farmer Joe get a cake for himself?  \n",
    "\n",
    "(e) Control your results:  \n",
    "    (e.1) Add an option return_mean to your function from (c). If return_mean=True, the function should return the __expected__ number of berries, instead of a random realization according to the  distribution.  \n",
    "    (e.2) Now load n_plants and n_children from the file plant_record.npz and calculate the expected outcomes for each year.  \n",
    "    Plot the number of berries that each child receives over the years. Mark those years with a red star, in which farmer Joe had enough left-overs for cake.  \n",
    "    (If you did everything right, your plot should show farmer Joe's house ;)\n",
    "\n",
    "(Bonus) How can you use your function distribute_berries to quickly calculate the outcome for all possible COMBINATIONS of the numbers of berries and children given as input? (Hint: Broadcasting)"
   ]
  },
  {
   "cell_type": "markdown",
   "metadata": {},
   "source": [
    "### Exercise: The Mandelbrot Set\n",
    "\n",
    "The mandelbrot set is a beautiful fractal ([Wikipedia](http://en.wikipedia.org/wiki/Mandelbrot_set)). \n",
    "More precisely, it contains all numbers from the complex plane where the complex quadratic polynomial \n",
    "\n",
    "\\begin{align}\n",
    "    z_{n+1} = z_{n}^2 + c\n",
    "\\end{align}\n",
    "\n",
    "remains bounded. A complex number $c$ is part of the Mandelbrot set when starting with $z_0=0$ and applying the iteration repeatedly, the absolute value of $z_n$ remains smaller or equal than 2 regardless how large $n$ becomes.\n",
    "\n",
    "Moreover, one can draw very beautiful images by looking at the *escape time* of a numerical computation:\n",
    "We will numerically determine whether a complex number $c$ belongs to the set, and if not we will keep track how many iterations are needed until $|z_n| > 2$. Plotting the escape times of a sampled grid of complex numbers as a 2D image will yield the famous *ApfelmÃ¤nnchen* you might have seen before.\n",
    "\n",
    "#### Task:\n",
    "\n",
    "* Write a function ``mandelbrot(relim, imlim, resteps, imsteps, maxiterations)`` that computes and returns the escape times for the mandelbrot set.\n",
    "    * ``relim`` and ``imlim`` are tuples that define the boundary of the complex plane (e.g. ``relim=(-2,1)`` and ``imlim=(-1,1)``), for convenience ``imlim`` should contain real numbers although it represents the complex axis.\n",
    "    * ``resteps`` and ``imsteps`` are integers and define the sampling resolution along each axis (e.g. 300 and 200 steps).\n",
    "    * ``maxiterations`` is an integer defining the maximum number of iterations (e.g. 50).\n",
    "    \n",
    "    * The function should sample complex numbers from the plane as defined by the parameters ``relim, imlim, resteps, imsteps`` and repeatedly apply the quadratic polynomial from above until the absolute value of a complex number is larger than 2. In case a maximum number of iterations is reached (``maxiterations``) the number is believed to be part of the set. \n",
    "    * The function should return a 2D array containing the number of iterations needed for every sampled complex number and two 1D arrays containing the sampled values along each axis. Escape times in the 2D array of exactly ``maxiterations`` indicate complex numbers that are believed to be part of the set.\n",
    "* Make a 2D color plot of the escape times, you might want to look at matplotlib's [imshow](http://www.mathworks.de/de/help/images/ref/imshow.html) function.\n",
    "\n",
    "#### Hints how the function ``mandelbrot`` may work:\n",
    "* Create a 2D numpy array containing the escape times, in the beginning filled with zeros. \n",
    "\n",
    "* Secondly, create two 1D arrays sampling each dimension of the complex plane.  You might want to take a look at the [np.linspace](http://docs.scipy.org/doc/numpy/reference/generated/numpy.linspace.html) function. You can multiply one of the arrays with ``1j`` to create the imaginary axis. Later on you can calculate each starting complex number simply from summing individual elements of both arrays.\n",
    "\n",
    "* The easy brute-force solution involves three nested for loops. Be aware that you can use python's ``break`` statement to leave a for loop and spare unnecessary computations.\n",
    "\n",
    "* Iterate at most ``maxiterations`` times for any value in your complex plane and apply the quadratic polynomial from above. If the absolute value gets larger than 2 you can stop iterating and store the number of iterations you have needed in the 2D escape array. Thus, for complex numbers that are actually part of the Mandelbrot set, the 2D array of escape times should contain the value ``maxiterations``."
   ]
  },
  {
   "cell_type": "markdown",
   "metadata": {},
   "source": [
    "# Exercise: The matrix colour formula"
   ]
  },
  {
   "cell_type": "markdown",
   "metadata": {},
   "source": [
    "Load an image file from the web (see example code below), convert it to a numpy array and apply the matrix colour formula\n",
    "\n",
    "$ r \\rightarrow r^{3/2} $\n",
    "\n",
    "$ g \\rightarrow g^{4/5} $\n",
    "\n",
    "$ b \\rightarrow b^{3/2} $\n",
    "\n",
    "to the red, green and blue colour channels. (The formula assumes the pixels have values between 0 and 1; the load_image function returns values between 0 and 255, so you might have to rescale.)\n",
    "\n",
    "Print the image with `plt.imshow`."
   ]
  },
  {
   "cell_type": "code",
   "execution_count": null,
   "metadata": {
    "collapsed": false,
    "jupyter": {
     "outputs_hidden": false
    }
   },
   "outputs": [],
   "source": [
    "def load_image(url):\n",
    "    import numpy as np\n",
    "    import PIL.Image\n",
    "    import urllib\n",
    "    return np.array(PIL.Image.open(urllib.request.urlopen(url)))"
   ]
  },
  {
   "cell_type": "code",
   "execution_count": null,
   "metadata": {
    "collapsed": false,
    "jupyter": {
     "outputs_hidden": false
    }
   },
   "outputs": [],
   "source": [
    "IMG = 'https://www.berlin.de/binaries/asset/image_assets/970122/source/1488189492/624x468/'"
   ]
  },
  {
   "cell_type": "code",
   "execution_count": null,
   "metadata": {
    "collapsed": false,
    "jupyter": {
     "outputs_hidden": false
    },
    "scrolled": true
   },
   "outputs": [],
   "source": [
    "load_image(IMG)"
   ]
  },
  {
   "cell_type": "code",
   "execution_count": null,
   "metadata": {
    "collapsed": false,
    "jupyter": {
     "outputs_hidden": false
    }
   },
   "outputs": [],
   "source": []
  }
 ],
 "metadata": {
  "kernelspec": {
   "display_name": "Python 3 (ipykernel)",
   "language": "python",
   "name": "python3"
  },
  "language_info": {
   "codemirror_mode": {
    "name": "ipython",
    "version": 3
   },
   "file_extension": ".py",
   "mimetype": "text/x-python",
   "name": "python",
   "nbconvert_exporter": "python",
   "pygments_lexer": "ipython3",
   "version": "3.10.6"
  }
 },
 "nbformat": 4,
 "nbformat_minor": 4
}